{
  "cells": [
    {
      "cell_type": "markdown",
      "metadata": {
        "id": "view-in-github",
        "colab_type": "text"
      },
      "source": [
        "<a href=\"https://colab.research.google.com/github/Prashant-1008/Cyber_Believers/blob/main/phase%205%20(sub%20part%20for%20easy%20checking)%20(Check%20the%20main%20Phase%205%20first).ipynb\" target=\"_parent\"><img src=\"https://colab.research.google.com/assets/colab-badge.svg\" alt=\"Open In Colab\"/></a>"
      ]
    },
    {
      "cell_type": "markdown",
      "id": "tkFmWntNGoAH",
      "metadata": {
        "id": "tkFmWntNGoAH"
      },
      "source": [
        "# Complaint Classification Using Machine Learning\n",
        "\n",
        "This notebook demonstrates how to classify user complaints into categories and sub-categories using trained machine learning models. It includes steps to:\n",
        "\n",
        "- Accept a complaint as input\n",
        "- Transform the input using a TF-IDF vectorizer\n",
        "- Predict the category and sub-category using pre-trained models\n"
      ]
    },
    {
      "cell_type": "markdown",
      "id": "PiDJ3WHxGurW",
      "metadata": {
        "id": "PiDJ3WHxGurW"
      },
      "source": [
        "## Dependencies and Imports\n",
        "Ensure you have the required libraries installed before running this notebook."
      ]
    },
    {
      "cell_type": "code",
      "execution_count": null,
      "id": "3e151583-2a4e-4dcb-94ac-348b5ed27dbf",
      "metadata": {
        "id": "3e151583-2a4e-4dcb-94ac-348b5ed27dbf"
      },
      "outputs": [],
      "source": [
        "import numpy as np\n",
        "import pandas as pd"
      ]
    },
    {
      "cell_type": "code",
      "execution_count": null,
      "id": "ada4f00e-fabc-42ca-881b-dca3c2187ece",
      "metadata": {
        "id": "ada4f00e-fabc-42ca-881b-dca3c2187ece"
      },
      "outputs": [],
      "source": [
        "df = pd.read_csv(\"train.csv\")"
      ]
    },
    {
      "cell_type": "code",
      "execution_count": null,
      "id": "6ea5be59-85fa-499d-a15e-18d279f096ac",
      "metadata": {
        "id": "6ea5be59-85fa-499d-a15e-18d279f096ac"
      },
      "outputs": [],
      "source": [
        "df1 = pd.read_csv('test.csv')"
      ]
    },
    {
      "cell_type": "code",
      "execution_count": null,
      "id": "8c923c4f-f341-4745-8a47-c22af6cbb264",
      "metadata": {
        "colab": {
          "base_uri": "https://localhost:8080/",
          "height": 206
        },
        "id": "8c923c4f-f341-4745-8a47-c22af6cbb264",
        "outputId": "6ee55652-87f4-4237-e4cc-d584b7bcda2b"
      },
      "outputs": [
        {
          "data": {
            "text/html": [
              "<div>\n",
              "<style scoped>\n",
              "    .dataframe tbody tr th:only-of-type {\n",
              "        vertical-align: middle;\n",
              "    }\n",
              "\n",
              "    .dataframe tbody tr th {\n",
              "        vertical-align: top;\n",
              "    }\n",
              "\n",
              "    .dataframe thead th {\n",
              "        text-align: right;\n",
              "    }\n",
              "</style>\n",
              "<table border=\"1\" class=\"dataframe\">\n",
              "  <thead>\n",
              "    <tr style=\"text-align: right;\">\n",
              "      <th></th>\n",
              "      <th>category</th>\n",
              "      <th>sub_category</th>\n",
              "      <th>crimeaditionalinfo</th>\n",
              "    </tr>\n",
              "  </thead>\n",
              "  <tbody>\n",
              "    <tr>\n",
              "      <th>0</th>\n",
              "      <td>Online and Social Media Related Crime</td>\n",
              "      <td>Cyber Bullying  Stalking  Sexting</td>\n",
              "      <td>I had continue received random calls and abusi...</td>\n",
              "    </tr>\n",
              "    <tr>\n",
              "      <th>1</th>\n",
              "      <td>Online Financial Fraud</td>\n",
              "      <td>Fraud CallVishing</td>\n",
              "      <td>The above fraudster is continuously messaging ...</td>\n",
              "    </tr>\n",
              "    <tr>\n",
              "      <th>2</th>\n",
              "      <td>Online Gambling  Betting</td>\n",
              "      <td>Online Gambling  Betting</td>\n",
              "      <td>He is acting like a police and demanding for m...</td>\n",
              "    </tr>\n",
              "    <tr>\n",
              "      <th>3</th>\n",
              "      <td>Online and Social Media Related Crime</td>\n",
              "      <td>Online Job Fraud</td>\n",
              "      <td>In apna Job I have applied for job interview f...</td>\n",
              "    </tr>\n",
              "    <tr>\n",
              "      <th>4</th>\n",
              "      <td>Online Financial Fraud</td>\n",
              "      <td>Fraud CallVishing</td>\n",
              "      <td>I received a call from lady stating that she w...</td>\n",
              "    </tr>\n",
              "  </tbody>\n",
              "</table>\n",
              "</div>"
            ],
            "text/plain": [
              "                                category                       sub_category  \\\n",
              "0  Online and Social Media Related Crime  Cyber Bullying  Stalking  Sexting   \n",
              "1                 Online Financial Fraud                  Fraud CallVishing   \n",
              "2               Online Gambling  Betting           Online Gambling  Betting   \n",
              "3  Online and Social Media Related Crime                   Online Job Fraud   \n",
              "4                 Online Financial Fraud                  Fraud CallVishing   \n",
              "\n",
              "                                  crimeaditionalinfo  \n",
              "0  I had continue received random calls and abusi...  \n",
              "1  The above fraudster is continuously messaging ...  \n",
              "2  He is acting like a police and demanding for m...  \n",
              "3  In apna Job I have applied for job interview f...  \n",
              "4  I received a call from lady stating that she w...  "
            ]
          },
          "execution_count": 5,
          "metadata": {},
          "output_type": "execute_result"
        }
      ],
      "source": [
        "df.head()"
      ]
    },
    {
      "cell_type": "markdown",
      "id": "dd6a6e4a-7a61-4cff-8452-a388f808efbb",
      "metadata": {
        "id": "dd6a6e4a-7a61-4cff-8452-a388f808efbb"
      },
      "source": [
        "# Training the Dataset"
      ]
    },
    {
      "cell_type": "code",
      "execution_count": null,
      "id": "c9a24b99-c7c3-4b72-bf93-e3cd7151e713",
      "metadata": {
        "colab": {
          "base_uri": "https://localhost:8080/",
          "height": 178
        },
        "id": "c9a24b99-c7c3-4b72-bf93-e3cd7151e713",
        "outputId": "960eb31e-9e36-4c35-db2e-db9b3b57a9cf"
      },
      "outputs": [
        {
          "data": {
            "text/plain": [
              "category                 0\n",
              "sub_category          6591\n",
              "crimeaditionalinfo      21\n",
              "dtype: int64"
            ]
          },
          "execution_count": 6,
          "metadata": {},
          "output_type": "execute_result"
        }
      ],
      "source": [
        "df.isnull().sum()"
      ]
    },
    {
      "cell_type": "code",
      "execution_count": null,
      "id": "09ac3dff-5a9e-4819-a3e2-2fb99fd87932",
      "metadata": {
        "colab": {
          "base_uri": "https://localhost:8080/"
        },
        "id": "09ac3dff-5a9e-4819-a3e2-2fb99fd87932",
        "outputId": "e43d3c89-8e99-4101-937c-b294101ea883"
      },
      "outputs": [
        {
          "name": "stdout",
          "output_type": "stream",
          "text": [
            "<class 'pandas.core.frame.DataFrame'>\n",
            "RangeIndex: 93686 entries, 0 to 93685\n",
            "Data columns (total 3 columns):\n",
            " #   Column              Non-Null Count  Dtype \n",
            "---  ------              --------------  ----- \n",
            " 0   category            93686 non-null  object\n",
            " 1   sub_category        87095 non-null  object\n",
            " 2   crimeaditionalinfo  93665 non-null  object\n",
            "dtypes: object(3)\n",
            "memory usage: 2.1+ MB\n"
          ]
        }
      ],
      "source": [
        "df.info()"
      ]
    },
    {
      "cell_type": "code",
      "execution_count": null,
      "id": "16576103-8e1d-4e8a-a2b5-e186efcba9b4",
      "metadata": {
        "id": "16576103-8e1d-4e8a-a2b5-e186efcba9b4"
      },
      "outputs": [],
      "source": [
        "df.dropna(inplace = True)"
      ]
    },
    {
      "cell_type": "code",
      "execution_count": null,
      "id": "76144756-9cf9-4ea0-9ce2-620865b405d1",
      "metadata": {
        "colab": {
          "base_uri": "https://localhost:8080/"
        },
        "id": "76144756-9cf9-4ea0-9ce2-620865b405d1",
        "outputId": "74b58bf9-16c9-422b-c14f-7dbd33c28ce3"
      },
      "outputs": [
        {
          "data": {
            "text/plain": [
              "5056"
            ]
          },
          "execution_count": 9,
          "metadata": {},
          "output_type": "execute_result"
        }
      ],
      "source": [
        "df.duplicated().sum()"
      ]
    },
    {
      "cell_type": "code",
      "execution_count": null,
      "id": "593b3b63-1b9c-4f2d-b5ae-dcdd7aa2f419",
      "metadata": {
        "id": "593b3b63-1b9c-4f2d-b5ae-dcdd7aa2f419"
      },
      "outputs": [],
      "source": [
        "df.drop_duplicates(inplace = True)"
      ]
    },
    {
      "cell_type": "code",
      "execution_count": null,
      "id": "9e83f83b-a246-4847-b1c6-72de2b98734d",
      "metadata": {
        "colab": {
          "base_uri": "https://localhost:8080/"
        },
        "id": "9e83f83b-a246-4847-b1c6-72de2b98734d",
        "outputId": "59e83427-25e9-46df-e978-e41ee40d5e22"
      },
      "outputs": [
        {
          "data": {
            "text/plain": [
              "0"
            ]
          },
          "execution_count": 11,
          "metadata": {},
          "output_type": "execute_result"
        }
      ],
      "source": [
        "df.duplicated().sum()"
      ]
    },
    {
      "cell_type": "code",
      "execution_count": null,
      "id": "fc7afcb1-b3b0-4ae3-be10-dde1219af97f",
      "metadata": {
        "colab": {
          "base_uri": "https://localhost:8080/"
        },
        "id": "fc7afcb1-b3b0-4ae3-be10-dde1219af97f",
        "outputId": "463f365c-51eb-4584-d8d5-7ed2a97dcb5a"
      },
      "outputs": [
        {
          "data": {
            "text/plain": [
              "array(['Online and Social Media Related Crime', 'Online Financial Fraud',\n",
              "       'Online Gambling  Betting', 'Any Other Cyber Crime',\n",
              "       'Cyber Attack/ Dependent Crimes', 'Cryptocurrency Crime',\n",
              "       'Hacking  Damage to computercomputer system etc',\n",
              "       'Cyber Terrorism', 'Online Cyber Trafficking', 'Ransomware',\n",
              "       'Report Unlawful Content'], dtype=object)"
            ]
          },
          "execution_count": 12,
          "metadata": {},
          "output_type": "execute_result"
        }
      ],
      "source": [
        "df['category'].unique()"
      ]
    },
    {
      "cell_type": "code",
      "execution_count": null,
      "id": "dd66e8d2-9f86-4ff9-89a9-65a7be91c3b1",
      "metadata": {
        "id": "dd66e8d2-9f86-4ff9-89a9-65a7be91c3b1"
      },
      "outputs": [],
      "source": [
        "import matplotlib.pyplot as plt\n",
        "import seaborn as sns"
      ]
    },
    {
      "cell_type": "code",
      "execution_count": null,
      "id": "f4090a0d-c640-4627-ae19-d6b3ba2fbb66",
      "metadata": {
        "colab": {
          "base_uri": "https://localhost:8080/",
          "height": 813
        },
        "id": "f4090a0d-c640-4627-ae19-d6b3ba2fbb66",
        "outputId": "2ed66e62-8eb8-4435-83d3-9a8dfdf55ab4"
      },
      "outputs": [
        {
          "data": {
            "text/plain": [
              "<Axes: xlabel='category'>"
            ]
          },
          "execution_count": 14,
          "metadata": {},
          "output_type": "execute_result"
        },
        {
          "data": {
            "image/png": "[encoded data removed]",
            "text/plain": [
              "<Figure size 640x480 with 1 Axes>"
            ]
          },
          "metadata": {},
          "output_type": "display_data"
        }
      ],
      "source": [
        "df['category'].value_counts().plot(kind = 'bar')"
      ]
    },
    {
      "cell_type": "code",
      "execution_count": null,
      "id": "b59751df-b46c-412b-b322-0f78caddc137",
      "metadata": {
        "colab": {
          "base_uri": "https://localhost:8080/",
          "height": 460
        },
        "id": "b59751df-b46c-412b-b322-0f78caddc137",
        "outputId": "744a3b4f-ac24-48ef-fadd-636080289867"
      },
      "outputs": [
        {
          "data": {
            "text/html": [
              "<div>\n",
              "<style scoped>\n",
              "    .dataframe tbody tr th:only-of-type {\n",
              "        vertical-align: middle;\n",
              "    }\n",
              "\n",
              "    .dataframe tbody tr th {\n",
              "        vertical-align: top;\n",
              "    }\n",
              "\n",
              "    .dataframe thead th {\n",
              "        text-align: right;\n",
              "    }\n",
              "</style>\n",
              "<table border=\"1\" class=\"dataframe\">\n",
              "  <thead>\n",
              "    <tr style=\"text-align: right;\">\n",
              "      <th></th>\n",
              "      <th>count</th>\n",
              "    </tr>\n",
              "    <tr>\n",
              "      <th>category</th>\n",
              "      <th></th>\n",
              "    </tr>\n",
              "  </thead>\n",
              "  <tbody>\n",
              "    <tr>\n",
              "      <th>Online Financial Fraud</th>\n",
              "      <td>52496</td>\n",
              "    </tr>\n",
              "    <tr>\n",
              "      <th>Online and Social Media Related Crime</th>\n",
              "      <td>12076</td>\n",
              "    </tr>\n",
              "    <tr>\n",
              "      <th>Any Other Cyber Crime</th>\n",
              "      <td>10811</td>\n",
              "    </tr>\n",
              "    <tr>\n",
              "      <th>Cyber Attack/ Dependent Crimes</th>\n",
              "      <td>3608</td>\n",
              "    </tr>\n",
              "    <tr>\n",
              "      <th>Hacking  Damage to computercomputer system etc</th>\n",
              "      <td>1709</td>\n",
              "    </tr>\n",
              "    <tr>\n",
              "      <th>Cryptocurrency Crime</th>\n",
              "      <td>473</td>\n",
              "    </tr>\n",
              "    <tr>\n",
              "      <th>Online Gambling  Betting</th>\n",
              "      <td>444</td>\n",
              "    </tr>\n",
              "    <tr>\n",
              "      <th>Online Cyber Trafficking</th>\n",
              "      <td>183</td>\n",
              "    </tr>\n",
              "    <tr>\n",
              "      <th>Cyber Terrorism</th>\n",
              "      <td>161</td>\n",
              "    </tr>\n",
              "    <tr>\n",
              "      <th>Ransomware</th>\n",
              "      <td>56</td>\n",
              "    </tr>\n",
              "    <tr>\n",
              "      <th>Report Unlawful Content</th>\n",
              "      <td>1</td>\n",
              "    </tr>\n",
              "  </tbody>\n",
              "</table>\n",
              "</div><br><label><b>dtype:</b> int64</label>"
            ],
            "text/plain": [
              "category\n",
              "Online Financial Fraud                            52496\n",
              "Online and Social Media Related Crime             12076\n",
              "Any Other Cyber Crime                             10811\n",
              "Cyber Attack/ Dependent Crimes                     3608\n",
              "Hacking  Damage to computercomputer system etc     1709\n",
              "Cryptocurrency Crime                                473\n",
              "Online Gambling  Betting                            444\n",
              "Online Cyber Trafficking                            183\n",
              "Cyber Terrorism                                     161\n",
              "Ransomware                                           56\n",
              "Report Unlawful Content                               1\n",
              "Name: count, dtype: int64"
            ]
          },
          "execution_count": 17,
          "metadata": {},
          "output_type": "execute_result"
        }
      ],
      "source": [
        "df['category'].value_counts()"
      ]
    },
    {
      "cell_type": "code",
      "execution_count": null,
      "id": "ef98d606-2680-44a1-a29a-9206bd52c685",
      "metadata": {
        "colab": {
          "base_uri": "https://localhost:8080/"
        },
        "id": "ef98d606-2680-44a1-a29a-9206bd52c685",
        "outputId": "45a8725c-4715-49ee-e20e-8cb9a99b7b71"
      },
      "outputs": [
        {
          "data": {
            "text/plain": [
              "array(['Cyber Bullying  Stalking  Sexting', 'Fraud CallVishing',\n",
              "       'Online Gambling  Betting', 'Online Job Fraud',\n",
              "       'UPI Related Frauds', 'Internet Banking Related Fraud', 'Other',\n",
              "       'Profile Hacking Identity Theft',\n",
              "       'DebitCredit Card FraudSim Swap Fraud', 'EWallet Related Fraud',\n",
              "       'Data Breach/Theft', 'Cheating by Impersonation',\n",
              "       'Denial of Service (DoS)/Distributed Denial of Service (DDOS) attacks',\n",
              "       'FakeImpersonating Profile', 'Cryptocurrency Fraud',\n",
              "       'Malware Attack', 'Business Email CompromiseEmail Takeover',\n",
              "       'Email Hacking', 'Hacking/Defacement',\n",
              "       'Unauthorised AccessData Breach', 'SQL Injection',\n",
              "       'Provocative Speech for unlawful acts', 'Ransomware Attack',\n",
              "       'Cyber Terrorism', 'Tampering with computer source documents',\n",
              "       'DematDepository Fraud', 'Online Trafficking',\n",
              "       'Online Matrimonial Fraud', 'Website DefacementHacking',\n",
              "       'Damage to computer computer systems etc', 'Impersonating Email',\n",
              "       'EMail Phishing', 'Ransomware', 'Intimidating Email',\n",
              "       'Against Interest of sovereignty or integrity of India'],\n",
              "      dtype=object)"
            ]
          },
          "execution_count": 16,
          "metadata": {},
          "output_type": "execute_result"
        }
      ],
      "source": [
        "df['sub_category'].unique()"
      ]
    },
    {
      "cell_type": "code",
      "execution_count": null,
      "id": "98aa2953-c3f2-44f5-8056-745db4429ae2",
      "metadata": {
        "colab": {
          "base_uri": "https://localhost:8080/",
          "height": 1212
        },
        "id": "98aa2953-c3f2-44f5-8056-745db4429ae2",
        "outputId": "bdd3010e-d85c-41fb-bd92-2e7f9fddebde"
      },
      "outputs": [
        {
          "data": {
            "text/html": [
              "<div>\n",
              "<style scoped>\n",
              "    .dataframe tbody tr th:only-of-type {\n",
              "        vertical-align: middle;\n",
              "    }\n",
              "\n",
              "    .dataframe tbody tr th {\n",
              "        vertical-align: top;\n",
              "    }\n",
              "\n",
              "    .dataframe thead th {\n",
              "        text-align: right;\n",
              "    }\n",
              "</style>\n",
              "<table border=\"1\" class=\"dataframe\">\n",
              "  <thead>\n",
              "    <tr style=\"text-align: right;\">\n",
              "      <th></th>\n",
              "      <th>count</th>\n",
              "    </tr>\n",
              "    <tr>\n",
              "      <th>sub_category</th>\n",
              "      <th></th>\n",
              "    </tr>\n",
              "  </thead>\n",
              "  <tbody>\n",
              "    <tr>\n",
              "      <th>UPI Related Frauds</th>\n",
              "      <td>23526</td>\n",
              "    </tr>\n",
              "    <tr>\n",
              "      <th>Other</th>\n",
              "      <td>10811</td>\n",
              "    </tr>\n",
              "    <tr>\n",
              "      <th>DebitCredit Card FraudSim Swap Fraud</th>\n",
              "      <td>10044</td>\n",
              "    </tr>\n",
              "    <tr>\n",
              "      <th>Internet Banking Related Fraud</th>\n",
              "      <td>8096</td>\n",
              "    </tr>\n",
              "    <tr>\n",
              "      <th>Fraud CallVishing</th>\n",
              "      <td>5780</td>\n",
              "    </tr>\n",
              "    <tr>\n",
              "      <th>Cyber Bullying  Stalking  Sexting</th>\n",
              "      <td>4051</td>\n",
              "    </tr>\n",
              "    <tr>\n",
              "      <th>EWallet Related Fraud</th>\n",
              "      <td>4008</td>\n",
              "    </tr>\n",
              "    <tr>\n",
              "      <th>FakeImpersonating Profile</th>\n",
              "      <td>2289</td>\n",
              "    </tr>\n",
              "    <tr>\n",
              "      <th>Profile Hacking Identity Theft</th>\n",
              "      <td>2070</td>\n",
              "    </tr>\n",
              "    <tr>\n",
              "      <th>Cheating by Impersonation</th>\n",
              "      <td>1980</td>\n",
              "    </tr>\n",
              "    <tr>\n",
              "      <th>Unauthorised AccessData Breach</th>\n",
              "      <td>1113</td>\n",
              "    </tr>\n",
              "    <tr>\n",
              "      <th>Online Job Fraud</th>\n",
              "      <td>911</td>\n",
              "    </tr>\n",
              "    <tr>\n",
              "      <th>DematDepository Fraud</th>\n",
              "      <td>752</td>\n",
              "    </tr>\n",
              "    <tr>\n",
              "      <th>Tampering with computer source documents</th>\n",
              "      <td>567</td>\n",
              "    </tr>\n",
              "    <tr>\n",
              "      <th>Hacking/Defacement</th>\n",
              "      <td>540</td>\n",
              "    </tr>\n",
              "    <tr>\n",
              "      <th>Ransomware Attack</th>\n",
              "      <td>534</td>\n",
              "    </tr>\n",
              "    <tr>\n",
              "      <th>Malware Attack</th>\n",
              "      <td>521</td>\n",
              "    </tr>\n",
              "    <tr>\n",
              "      <th>SQL Injection</th>\n",
              "      <td>508</td>\n",
              "    </tr>\n",
              "    <tr>\n",
              "      <th>Denial of Service (DoS)/Distributed Denial of Service (DDOS) attacks</th>\n",
              "      <td>504</td>\n",
              "    </tr>\n",
              "    <tr>\n",
              "      <th>Data Breach/Theft</th>\n",
              "      <td>484</td>\n",
              "    </tr>\n",
              "    <tr>\n",
              "      <th>Cryptocurrency Fraud</th>\n",
              "      <td>473</td>\n",
              "    </tr>\n",
              "    <tr>\n",
              "      <th>Online Gambling  Betting</th>\n",
              "      <td>444</td>\n",
              "    </tr>\n",
              "    <tr>\n",
              "      <th>Provocative Speech for unlawful acts</th>\n",
              "      <td>413</td>\n",
              "    </tr>\n",
              "    <tr>\n",
              "      <th>Email Hacking</th>\n",
              "      <td>349</td>\n",
              "    </tr>\n",
              "    <tr>\n",
              "      <th>Business Email CompromiseEmail Takeover</th>\n",
              "      <td>290</td>\n",
              "    </tr>\n",
              "    <tr>\n",
              "      <th>Online Trafficking</th>\n",
              "      <td>183</td>\n",
              "    </tr>\n",
              "    <tr>\n",
              "      <th>Cyber Terrorism</th>\n",
              "      <td>161</td>\n",
              "    </tr>\n",
              "    <tr>\n",
              "      <th>EMail Phishing</th>\n",
              "      <td>157</td>\n",
              "    </tr>\n",
              "    <tr>\n",
              "      <th>Online Matrimonial Fraud</th>\n",
              "      <td>132</td>\n",
              "    </tr>\n",
              "    <tr>\n",
              "      <th>Damage to computer computer systems etc</th>\n",
              "      <td>108</td>\n",
              "    </tr>\n",
              "    <tr>\n",
              "      <th>Website DefacementHacking</th>\n",
              "      <td>89</td>\n",
              "    </tr>\n",
              "    <tr>\n",
              "      <th>Ransomware</th>\n",
              "      <td>56</td>\n",
              "    </tr>\n",
              "    <tr>\n",
              "      <th>Impersonating Email</th>\n",
              "      <td>44</td>\n",
              "    </tr>\n",
              "    <tr>\n",
              "      <th>Intimidating Email</th>\n",
              "      <td>29</td>\n",
              "    </tr>\n",
              "    <tr>\n",
              "      <th>Against Interest of sovereignty or integrity of India</th>\n",
              "      <td>1</td>\n",
              "    </tr>\n",
              "  </tbody>\n",
              "</table>\n",
              "</div><br><label><b>dtype:</b> int64</label>"
            ],
            "text/plain": [
              "sub_category\n",
              "UPI Related Frauds                                                      23526\n",
              "Other                                                                   10811\n",
              "DebitCredit Card FraudSim Swap Fraud                                    10044\n",
              "Internet Banking Related Fraud                                           8096\n",
              "Fraud CallVishing                                                        5780\n",
              "Cyber Bullying  Stalking  Sexting                                        4051\n",
              "EWallet Related Fraud                                                    4008\n",
              "FakeImpersonating Profile                                                2289\n",
              "Profile Hacking Identity Theft                                           2070\n",
              "Cheating by Impersonation                                                1980\n",
              "Unauthorised AccessData Breach                                           1113\n",
              "Online Job Fraud                                                          911\n",
              "DematDepository Fraud                                                     752\n",
              "Tampering with computer source documents                                  567\n",
              "Hacking/Defacement                                                        540\n",
              "Ransomware Attack                                                         534\n",
              "Malware Attack                                                            521\n",
              "SQL Injection                                                             508\n",
              "Denial of Service (DoS)/Distributed Denial of Service (DDOS) attacks      504\n",
              "Data Breach/Theft                                                         484\n",
              "Cryptocurrency Fraud                                                      473\n",
              "Online Gambling  Betting                                                  444\n",
              "Provocative Speech for unlawful acts                                      413\n",
              "Email Hacking                                                             349\n",
              "Business Email CompromiseEmail Takeover                                   290\n",
              "Online Trafficking                                                        183\n",
              "Cyber Terrorism                                                           161\n",
              "EMail Phishing                                                            157\n",
              "Online Matrimonial Fraud                                                  132\n",
              "Damage to computer computer systems etc                                   108\n",
              "Website DefacementHacking                                                  89\n",
              "Ransomware                                                                 56\n",
              "Impersonating Email                                                        44\n",
              "Intimidating Email                                                         29\n",
              "Against Interest of sovereignty or integrity of India                       1\n",
              "Name: count, dtype: int64"
            ]
          },
          "execution_count": 19,
          "metadata": {},
          "output_type": "execute_result"
        }
      ],
      "source": [
        "df['sub_category'].value_counts()"
      ]
    },
    {
      "cell_type": "code",
      "execution_count": null,
      "id": "5569ae7b-2bce-4cfb-b057-52dd9998ebef",
      "metadata": {
        "id": "5569ae7b-2bce-4cfb-b057-52dd9998ebef"
      },
      "outputs": [],
      "source": [
        "from sklearn.model_selection import train_test_split\n",
        "from sklearn.feature_extraction.text import TfidfVectorizer\n",
        "from sklearn.linear_model import LogisticRegression\n",
        "from sklearn.metrics import accuracy_score, classification_report"
      ]
    },
    {
      "cell_type": "code",
      "execution_count": null,
      "id": "e5a241e2-4619-4061-bc1f-78182ff37320",
      "metadata": {
        "id": "e5a241e2-4619-4061-bc1f-78182ff37320"
      },
      "outputs": [],
      "source": [
        "# Splitting into category and sub-category\n",
        "X = df['crimeaditionalinfo']\n",
        "y_category = df['category']\n",
        "y_sub_category = df['sub_category']\n",
        "\n",
        "# Splitting the data for category classification\n",
        "X_train, X_test, y_train_category, y_test_category = train_test_split(X, y_category, test_size=0.2, random_state=42)\n",
        "\n",
        "# TF-IDF Vectorization\n",
        "tfidf = TfidfVectorizer(stop_words='english')\n",
        "X_train_tfidf = tfidf.fit_transform(X_train)\n",
        "X_test_tfidf = tfidf.transform(X_test)\n"
      ]
    },
    {
      "cell_type": "code",
      "execution_count": null,
      "id": "d28786d9-a927-470f-8652-6ecd093041c2",
      "metadata": {
        "colab": {
          "base_uri": "https://localhost:8080/"
        },
        "id": "d28786d9-a927-470f-8652-6ecd093041c2",
        "outputId": "d1fe06df-a956-4e85-cad1-da095966cf95"
      },
      "outputs": [
        {
          "name": "stderr",
          "output_type": "stream",
          "text": [
            "C:\\Users\\Harsh\\anaconda3\\Lib\\site-packages\\sklearn\\linear_model\\_logistic.py:469: ConvergenceWarning: lbfgs failed to converge (status=1):\n",
            "STOP: TOTAL NO. of ITERATIONS REACHED LIMIT.\n",
            "\n",
            "Increase the number of iterations (max_iter) or scale the data as shown in:\n",
            "    https://scikit-learn.org/stable/modules/preprocessing.html\n",
            "Please also refer to the documentation for alternative solver options:\n",
            "    https://scikit-learn.org/stable/modules/linear_model.html#logistic-regression\n",
            "  n_iter_i = _check_optimize_result(\n"
          ]
        },
        {
          "name": "stdout",
          "output_type": "stream",
          "text": [
            "Category Classification Report:\n"
          ]
        },
        {
          "name": "stderr",
          "output_type": "stream",
          "text": [
            "C:\\Users\\Harsh\\anaconda3\\Lib\\site-packages\\sklearn\\metrics\\_classification.py:1531: UndefinedMetricWarning: Precision is ill-defined and being set to 0.0 in labels with no predicted samples. Use `zero_division` parameter to control this behavior.\n",
            "  _warn_prf(average, modifier, f\"{metric.capitalize()} is\", len(result))\n",
            "C:\\Users\\Harsh\\anaconda3\\Lib\\site-packages\\sklearn\\metrics\\_classification.py:1531: UndefinedMetricWarning: Precision is ill-defined and being set to 0.0 in labels with no predicted samples. Use `zero_division` parameter to control this behavior.\n",
            "  _warn_prf(average, modifier, f\"{metric.capitalize()} is\", len(result))\n"
          ]
        },
        {
          "name": "stdout",
          "output_type": "stream",
          "text": [
            "                                                precision    recall  f1-score   support\n",
            "\n",
            "                         Any Other Cyber Crime       0.50      0.26      0.34      2167\n",
            "                          Cryptocurrency Crime       0.64      0.26      0.37       104\n",
            "                Cyber Attack/ Dependent Crimes       1.00      1.00      1.00       747\n",
            "                               Cyber Terrorism       0.00      0.00      0.00        31\n",
            "Hacking  Damage to computercomputer system etc       0.52      0.28      0.37       323\n",
            "                      Online Cyber Trafficking       0.00      0.00      0.00        41\n",
            "                        Online Financial Fraud       0.81      0.94      0.87     10510\n",
            "                      Online Gambling  Betting       0.67      0.02      0.04        89\n",
            "         Online and Social Media Related Crime       0.68      0.63      0.65      2377\n",
            "                                    Ransomware       0.00      0.00      0.00        15\n",
            "\n",
            "                                      accuracy                           0.78     16404\n",
            "                                     macro avg       0.48      0.34      0.36     16404\n",
            "                                  weighted avg       0.75      0.78      0.75     16404\n",
            "\n"
          ]
        },
        {
          "name": "stderr",
          "output_type": "stream",
          "text": [
            "C:\\Users\\Harsh\\anaconda3\\Lib\\site-packages\\sklearn\\metrics\\_classification.py:1531: UndefinedMetricWarning: Precision is ill-defined and being set to 0.0 in labels with no predicted samples. Use `zero_division` parameter to control this behavior.\n",
            "  _warn_prf(average, modifier, f\"{metric.capitalize()} is\", len(result))\n"
          ]
        }
      ],
      "source": [
        "# Logistic Regression Model for Category Classification\n",
        "category_model = LogisticRegression()\n",
        "category_model.fit(X_train_tfidf, y_train_category)\n",
        "\n",
        "# Prediction and evaluation\n",
        "y_pred_category = category_model.predict(X_test_tfidf)\n",
        "print(\"Category Classification Report:\")\n",
        "print(classification_report(y_test_category, y_pred_category))\n"
      ]
    },
    {
      "cell_type": "code",
      "execution_count": null,
      "id": "4ff02a01-436d-4ec2-9696-9e87127b58ac",
      "metadata": {
        "colab": {
          "base_uri": "https://localhost:8080/"
        },
        "id": "4ff02a01-436d-4ec2-9696-9e87127b58ac",
        "outputId": "7db9232d-3cc5-492d-d6f5-f4cad12b6ce8"
      },
      "outputs": [
        {
          "name": "stderr",
          "output_type": "stream",
          "text": [
            "C:\\Users\\Harsh\\anaconda3\\Lib\\site-packages\\sklearn\\linear_model\\_logistic.py:469: ConvergenceWarning: lbfgs failed to converge (status=1):\n",
            "STOP: TOTAL NO. of ITERATIONS REACHED LIMIT.\n",
            "\n",
            "Increase the number of iterations (max_iter) or scale the data as shown in:\n",
            "    https://scikit-learn.org/stable/modules/preprocessing.html\n",
            "Please also refer to the documentation for alternative solver options:\n",
            "    https://scikit-learn.org/stable/modules/linear_model.html#logistic-regression\n",
            "  n_iter_i = _check_optimize_result(\n"
          ]
        },
        {
          "name": "stdout",
          "output_type": "stream",
          "text": [
            "Sub-Category Classification Report:\n"
          ]
        },
        {
          "name": "stderr",
          "output_type": "stream",
          "text": [
            "C:\\Users\\Harsh\\anaconda3\\Lib\\site-packages\\sklearn\\metrics\\_classification.py:1531: UndefinedMetricWarning: Precision is ill-defined and being set to 0.0 in labels with no predicted samples. Use `zero_division` parameter to control this behavior.\n",
            "  _warn_prf(average, modifier, f\"{metric.capitalize()} is\", len(result))\n",
            "C:\\Users\\Harsh\\anaconda3\\Lib\\site-packages\\sklearn\\metrics\\_classification.py:1531: UndefinedMetricWarning: Precision is ill-defined and being set to 0.0 in labels with no predicted samples. Use `zero_division` parameter to control this behavior.\n",
            "  _warn_prf(average, modifier, f\"{metric.capitalize()} is\", len(result))\n"
          ]
        },
        {
          "name": "stdout",
          "output_type": "stream",
          "text": [
            "                                                                      precision    recall  f1-score   support\n",
            "\n",
            "                             Business Email CompromiseEmail Takeover       0.00      0.00      0.00        63\n",
            "                                           Cheating by Impersonation       0.36      0.02      0.04       406\n",
            "                                                Cryptocurrency Fraud       0.66      0.40      0.50       104\n",
            "                                   Cyber Bullying  Stalking  Sexting       0.59      0.65      0.62       786\n",
            "                                                     Cyber Terrorism       0.00      0.00      0.00        31\n",
            "                             Damage to computer computer systems etc       0.00      0.00      0.00        18\n",
            "                                                   Data Breach/Theft       0.17      0.19      0.18        85\n",
            "                                DebitCredit Card FraudSim Swap Fraud       0.73      0.67      0.70      2013\n",
            "                                               DematDepository Fraud       0.36      0.03      0.05       157\n",
            "Denial of Service (DoS)/Distributed Denial of Service (DDOS) attacks       0.14      0.15      0.14        98\n",
            "                                                      EMail Phishing       0.00      0.00      0.00        34\n",
            "                                               EWallet Related Fraud       0.63      0.36      0.46       792\n",
            "                                                       Email Hacking       0.62      0.29      0.40        78\n",
            "                                           FakeImpersonating Profile       0.54      0.38      0.44       481\n",
            "                                                   Fraud CallVishing       0.34      0.22      0.27      1171\n",
            "                                                  Hacking/Defacement       0.17      0.23      0.20       115\n",
            "                                                 Impersonating Email       0.00      0.00      0.00        11\n",
            "                                      Internet Banking Related Fraud       0.69      0.58      0.63      1604\n",
            "                                                  Intimidating Email       0.00      0.00      0.00         3\n",
            "                                                      Malware Attack       0.18      0.11      0.14       115\n",
            "                                            Online Gambling  Betting       0.67      0.02      0.04        89\n",
            "                                                    Online Job Fraud       0.27      0.16      0.20       166\n",
            "                                            Online Matrimonial Fraud       0.00      0.00      0.00        27\n",
            "                                                  Online Trafficking       0.00      0.00      0.00        41\n",
            "                                                               Other       0.35      0.50      0.41      2167\n",
            "                                      Profile Hacking Identity Theft       0.51      0.44      0.47       390\n",
            "                                Provocative Speech for unlawful acts       0.50      0.03      0.05        73\n",
            "                                                          Ransomware       0.00      0.00      0.00        15\n",
            "                                                   Ransomware Attack       0.12      0.09      0.10       115\n",
            "                                                       SQL Injection       0.08      0.11      0.09        99\n",
            "                            Tampering with computer source documents       0.17      0.12      0.14       132\n",
            "                                                  UPI Related Frauds       0.62      0.83      0.71      4710\n",
            "                                      Unauthorised AccessData Breach       0.35      0.27      0.30       196\n",
            "                                           Website DefacementHacking       0.00      0.00      0.00        19\n",
            "\n",
            "                                                            accuracy                           0.55     16404\n",
            "                                                           macro avg       0.29      0.20      0.21     16404\n",
            "                                                        weighted avg       0.53      0.55      0.52     16404\n",
            "\n"
          ]
        },
        {
          "name": "stderr",
          "output_type": "stream",
          "text": [
            "C:\\Users\\Harsh\\anaconda3\\Lib\\site-packages\\sklearn\\metrics\\_classification.py:1531: UndefinedMetricWarning: Precision is ill-defined and being set to 0.0 in labels with no predicted samples. Use `zero_division` parameter to control this behavior.\n",
            "  _warn_prf(average, modifier, f\"{metric.capitalize()} is\", len(result))\n"
          ]
        }
      ],
      "source": [
        "# Splitting the data for sub-category classification\n",
        "X_train, X_test, y_train_sub_category, y_test_sub_category = train_test_split(X, y_sub_category, test_size=0.2, random_state=42)\n",
        "\n",
        "# Logistic Regression Model for Sub-Category Classification\n",
        "sub_category_model = LogisticRegression()\n",
        "sub_category_model.fit(X_train_tfidf, y_train_sub_category)\n",
        "\n",
        "# Prediction and evaluation\n",
        "y_pred_sub_category = sub_category_model.predict(X_test_tfidf)\n",
        "print(\"Sub-Category Classification Report:\")\n",
        "print(classification_report(y_test_sub_category, y_pred_sub_category))\n",
        "\n"
      ]
    },
    {
      "cell_type": "code",
      "execution_count": null,
      "id": "e9448bcd-e767-4e82-9c55-e6f1fe5806c6",
      "metadata": {
        "id": "e9448bcd-e767-4e82-9c55-e6f1fe5806c6",
        "outputId": "b67d873b-5489-4bc6-f281-f608cc0333ae"
      },
      "outputs": [
        {
          "name": "stdout",
          "output_type": "stream",
          "text": [
            "[LightGBM] [Info] Auto-choosing row-wise multi-threading, the overhead of testing was 5.316175 seconds.\n",
            "You can set `force_row_wise=true` to remove the overhead.\n",
            "And if memory is not enough, you can set `force_col_wise=true`.\n",
            "[LightGBM] [Info] Total Bins 313049\n",
            "[LightGBM] [Info] Number of data points in the train set: 65614, number of used features: 5457\n",
            "[LightGBM] [Info] Start training from score -2.026924\n",
            "[LightGBM] [Info] Start training from score -5.180748\n",
            "[LightGBM] [Info] Start training from score -3.132618\n",
            "[LightGBM] [Info] Start training from score -6.224010\n",
            "[LightGBM] [Info] Start training from score -3.857367\n",
            "[LightGBM] [Info] Start training from score -6.135717\n",
            "[LightGBM] [Info] Start training from score -0.446453\n",
            "[LightGBM] [Info] Start training from score -5.219427\n",
            "[LightGBM] [Info] Start training from score -1.911766\n",
            "[LightGBM] [Info] Start training from score -7.377972\n",
            "[LightGBM] [Info] Start training from score -11.091544\n",
            "[LightGBM] [Warning] No further splits with positive gain, best gain: -inf\n",
            "[LightGBM] [Warning] No further splits with positive gain, best gain: -inf\n",
            "[LightGBM] [Warning] No further splits with positive gain, best gain: -inf\n",
            "[LightGBM] [Warning] No further splits with positive gain, best gain: -inf\n",
            "[LightGBM] [Warning] No further splits with positive gain, best gain: -inf\n",
            "[LightGBM] [Warning] No further splits with positive gain, best gain: -inf\n",
            "[LightGBM] [Warning] No further splits with positive gain, best gain: -inf\n",
            "[LightGBM] [Warning] No further splits with positive gain, best gain: -inf\n",
            "[LightGBM] [Warning] No further splits with positive gain, best gain: -inf\n",
            "[LightGBM] [Warning] No further splits with positive gain, best gain: -inf\n",
            "[LightGBM] [Warning] No further splits with positive gain, best gain: -inf\n",
            "[LightGBM] [Warning] No further splits with positive gain, best gain: -inf\n",
            "[LightGBM] [Warning] No further splits with positive gain, best gain: -inf\n",
            "[LightGBM] [Warning] No further splits with positive gain, best gain: -inf\n",
            "[LightGBM] [Warning] No further splits with positive gain, best gain: -inf\n",
            "[LightGBM] [Warning] No further splits with positive gain, best gain: -inf\n",
            "[LightGBM] [Warning] No further splits with positive gain, best gain: -inf\n",
            "[LightGBM] [Warning] No further splits with positive gain, best gain: -inf\n",
            "[LightGBM] [Warning] No further splits with positive gain, best gain: -inf\n",
            "[LightGBM] [Warning] No further splits with positive gain, best gain: -inf\n",
            "[LightGBM] [Warning] No further splits with positive gain, best gain: -inf\n",
            "[LightGBM] [Warning] No further splits with positive gain, best gain: -inf\n",
            "[LightGBM] [Warning] No further splits with positive gain, best gain: -inf\n",
            "[LightGBM] [Warning] No further splits with positive gain, best gain: -inf\n",
            "[LightGBM] [Warning] No further splits with positive gain, best gain: -inf\n",
            "[LightGBM] [Warning] No further splits with positive gain, best gain: -inf\n",
            "[LightGBM] [Warning] No further splits with positive gain, best gain: -inf\n",
            "[LightGBM] [Warning] No further splits with positive gain, best gain: -inf\n",
            "[LightGBM] [Warning] No further splits with positive gain, best gain: -inf\n",
            "[LightGBM] [Warning] No further splits with positive gain, best gain: -inf\n",
            "[LightGBM] [Warning] No further splits with positive gain, best gain: -inf\n",
            "[LightGBM] [Warning] No further splits with positive gain, best gain: -inf\n",
            "[LightGBM] [Warning] No further splits with positive gain, best gain: -inf\n",
            "[LightGBM] [Warning] No further splits with positive gain, best gain: -inf\n",
            "[LightGBM] [Warning] No further splits with positive gain, best gain: -inf\n",
            "[LightGBM] [Warning] No further splits with positive gain, best gain: -inf\n",
            "[LightGBM] [Warning] No further splits with positive gain, best gain: -inf\n",
            "[LightGBM] [Warning] No further splits with positive gain, best gain: -inf\n",
            "[LightGBM] [Warning] No further splits with positive gain, best gain: -inf\n",
            "[LightGBM] [Warning] No further splits with positive gain, best gain: -inf\n",
            "[LightGBM] [Warning] No further splits with positive gain, best gain: -inf\n",
            "[LightGBM] [Warning] No further splits with positive gain, best gain: -inf\n",
            "[LightGBM] [Warning] No further splits with positive gain, best gain: -inf\n",
            "[LightGBM] [Warning] No further splits with positive gain, best gain: -inf\n",
            "[LightGBM] [Warning] No further splits with positive gain, best gain: -inf\n",
            "[LightGBM] [Warning] No further splits with positive gain, best gain: -inf\n",
            "[LightGBM] [Warning] No further splits with positive gain, best gain: -inf\n",
            "[LightGBM] [Warning] No further splits with positive gain, best gain: -inf\n",
            "[LightGBM] [Warning] No further splits with positive gain, best gain: -inf\n",
            "[LightGBM] [Warning] No further splits with positive gain, best gain: -inf\n",
            "[LightGBM] [Warning] No further splits with positive gain, best gain: -inf\n",
            "[LightGBM] [Warning] No further splits with positive gain, best gain: -inf\n",
            "[LightGBM] [Warning] No further splits with positive gain, best gain: -inf\n",
            "[LightGBM] [Warning] No further splits with positive gain, best gain: -inf\n",
            "[LightGBM] [Warning] No further splits with positive gain, best gain: -inf\n",
            "[LightGBM] [Warning] No further splits with positive gain, best gain: -inf\n",
            "[LightGBM] [Warning] No further splits with positive gain, best gain: -inf\n",
            "[LightGBM] [Warning] No further splits with positive gain, best gain: -inf\n",
            "[LightGBM] [Warning] No further splits with positive gain, best gain: -inf\n",
            "[LightGBM] [Warning] No further splits with positive gain, best gain: -inf\n",
            "[LightGBM] [Warning] No further splits with positive gain, best gain: -inf\n",
            "[LightGBM] [Warning] No further splits with positive gain, best gain: -inf\n",
            "[LightGBM] [Warning] No further splits with positive gain, best gain: -inf\n",
            "[LightGBM] [Warning] No further splits with positive gain, best gain: -inf\n",
            "[LightGBM] [Warning] No further splits with positive gain, best gain: -inf\n",
            "[LightGBM] [Warning] No further splits with positive gain, best gain: -inf\n",
            "[LightGBM] [Warning] No further splits with positive gain, best gain: -inf\n",
            "[LightGBM] [Warning] No further splits with positive gain, best gain: -inf\n",
            "[LightGBM] [Warning] No further splits with positive gain, best gain: -inf\n",
            "[LightGBM] [Warning] No further splits with positive gain, best gain: -inf\n",
            "[LightGBM] [Warning] No further splits with positive gain, best gain: -inf\n",
            "[LightGBM] [Warning] No further splits with positive gain, best gain: -inf\n",
            "[LightGBM] [Warning] No further splits with positive gain, best gain: -inf\n",
            "[LightGBM] [Warning] No further splits with positive gain, best gain: -inf\n",
            "[LightGBM] [Warning] No further splits with positive gain, best gain: -inf\n",
            "[LightGBM] [Warning] No further splits with positive gain, best gain: -inf\n",
            "[LightGBM] [Warning] No further splits with positive gain, best gain: -inf\n",
            "[LightGBM] [Warning] No further splits with positive gain, best gain: -inf\n",
            "LightGBM Category Classification Report:\n"
          ]
        },
        {
          "name": "stderr",
          "output_type": "stream",
          "text": [
            "C:\\Users\\Harsh\\anaconda3\\Lib\\site-packages\\sklearn\\metrics\\_classification.py:1531: UndefinedMetricWarning: Recall is ill-defined and being set to 0.0 in labels with no true samples. Use `zero_division` parameter to control this behavior.\n",
            "  _warn_prf(average, modifier, f\"{metric.capitalize()} is\", len(result))\n"
          ]
        },
        {
          "name": "stdout",
          "output_type": "stream",
          "text": [
            "                                                precision    recall  f1-score   support\n",
            "\n",
            "                         Any Other Cyber Crime       0.50      0.21      0.30      2167\n",
            "                          Cryptocurrency Crime       0.47      0.36      0.41       104\n",
            "                Cyber Attack/ Dependent Crimes       1.00      0.99      1.00       747\n",
            "                               Cyber Terrorism       0.00      0.00      0.00        31\n",
            "Hacking  Damage to computercomputer system etc       0.45      0.30      0.36       323\n",
            "                      Online Cyber Trafficking       0.00      0.00      0.00        41\n",
            "                        Online Financial Fraud       0.81      0.94      0.87     10510\n",
            "                      Online Gambling  Betting       0.41      0.16      0.23        89\n",
            "         Online and Social Media Related Crime       0.68      0.61      0.64      2377\n",
            "                                    Ransomware       0.04      0.13      0.06        15\n",
            "                       Report Unlawful Content       0.00      0.00      0.00         0\n",
            "\n",
            "                                      accuracy                           0.77     16404\n",
            "                                     macro avg       0.40      0.34      0.35     16404\n",
            "                                  weighted avg       0.74      0.77      0.74     16404\n",
            "\n"
          ]
        },
        {
          "name": "stderr",
          "output_type": "stream",
          "text": [
            "C:\\Users\\Harsh\\anaconda3\\Lib\\site-packages\\sklearn\\metrics\\_classification.py:1531: UndefinedMetricWarning: Recall is ill-defined and being set to 0.0 in labels with no true samples. Use `zero_division` parameter to control this behavior.\n",
            "  _warn_prf(average, modifier, f\"{metric.capitalize()} is\", len(result))\n",
            "C:\\Users\\Harsh\\anaconda3\\Lib\\site-packages\\sklearn\\metrics\\_classification.py:1531: UndefinedMetricWarning: Recall is ill-defined and being set to 0.0 in labels with no true samples. Use `zero_division` parameter to control this behavior.\n",
            "  _warn_prf(average, modifier, f\"{metric.capitalize()} is\", len(result))\n"
          ]
        }
      ],
      "source": [
        "import lightgbm as lgb\n",
        "from sklearn.metrics import classification_report\n",
        "\n",
        "# Initialize the LightGBM model\n",
        "lgb_category_model = lgb.LGBMClassifier()\n",
        "\n",
        "# Fit the LightGBM model on the TF-IDF features\n",
        "lgb_category_model.fit(X_train_tfidf, y_train_category)\n",
        "\n",
        "# Predict the category labels for the test set\n",
        "y_pred_lgb_category = lgb_category_model.predict(X_test_tfidf)\n",
        "\n",
        "# Evaluate the LightGBM model\n",
        "print(\"LightGBM Category Classification Report:\")\n",
        "print(classification_report(y_test_category, y_pred_lgb_category))\n"
      ]
    },
    {
      "cell_type": "code",
      "execution_count": null,
      "id": "7599d093-ac94-4c0a-b7a3-d4cc68209d55",
      "metadata": {
        "colab": {
          "base_uri": "https://localhost:8080/"
        },
        "id": "7599d093-ac94-4c0a-b7a3-d4cc68209d55",
        "outputId": "8cf60595-5fbc-4925-e86d-098900c02e3f"
      },
      "outputs": [
        {
          "name": "stdout",
          "output_type": "stream",
          "text": [
            "Enter your complaint : i am from delhi saket, i was receiving an email of lottery and was asking for my bank details now he is not responding after taking 2 lakh as security\n",
            "Predicted Category: Online Financial Fraud\n",
            "Predicted Sub-Category: Fraud CallVishing\n"
          ]
        }
      ],
      "source": [
        "# Predicting category and sub-category for a new statement\n",
        "new_statement = input(\"Enter your complaint : \")\n",
        "new_statement_tfidf = tfidf.transform([new_statement])  # Wrap in a list\n",
        "\n",
        "predicted_category = category_model.predict(new_statement_tfidf)\n",
        "predicted_sub_category = sub_category_model.predict(new_statement_tfidf)\n",
        "\n",
        "print(f'Predicted Category: {predicted_category[0]}')\n",
        "print(f'Predicted Sub-Category: {predicted_sub_category[0]}')\n"
      ]
    }
  ],
  "metadata": {
    "colab": {
      "provenance": [],
      "include_colab_link": true
    },
    "kernelspec": {
      "display_name": "Python 3 (ipykernel)",
      "language": "python",
      "name": "python3"
    },
    "language_info": {
      "codemirror_mode": {
        "name": "ipython",
        "version": 3
      },
      "file_extension": ".py",
      "mimetype": "text/x-python",
      "name": "python",
      "nbconvert_exporter": "python",
      "pygments_lexer": "ipython3",
      "version": "3.11.9"
    }
  },
  "nbformat": 4,
  "nbformat_minor": 5
}
