{
  "cells": [
    {
      "cell_type": "markdown",
      "metadata": {
        "id": "view-in-github",
        "colab_type": "text"
      },
      "source": [
        "<a href=\"https://colab.research.google.com/github/Prashant-1008/Cyber_Believers/blob/main/NLP_Based_model(2nd_phase).ipynb\" target=\"_parent\"><img src=\"https://colab.research.google.com/assets/colab-badge.svg\" alt=\"Open In Colab\"/></a>"
      ]
    },
    {
      "cell_type": "markdown",
      "id": "be1fc7d0",
      "metadata": {
        "id": "be1fc7d0"
      },
      "source": [
        "# Complaint Classification Using Machine Learning\n",
        "\n",
        "This notebook demonstrates how to classify user complaints into categories and sub-categories using trained machine learning models. It includes steps to:\n",
        "\n",
        "- Accept a complaint as input\n",
        "- Transform the input using a TF-IDF vectorizer\n",
        "- Predict the category and sub-category using pre-trained models\n"
      ]
    },
    {
      "cell_type": "markdown",
      "id": "8262f021",
      "metadata": {
        "id": "8262f021"
      },
      "source": [
        "## Dependencies and Imports\n",
        "Ensure you have the required libraries installed before running this notebook."
      ]
    },
    {
      "cell_type": "code",
      "source": [
        "import pandas as pd\n",
        "import numpy as np\n",
        "import re\n",
        "import string\n",
        "from nltk.corpus import stopwords\n",
        "from sklearn.model_selection import train_test_split\n",
        "from sklearn.feature_extraction.text import TfidfVectorizer\n",
        "from sklearn.ensemble import RandomForestClassifier\n",
        "from sklearn.metrics import classification_report, accuracy_score\n",
        "import nltk\n",
        "from sklearn.impute import SimpleImputer\n",
        "\n",
        "# Download NLTK stopwords\n",
        "nltk.download('stopwords')\n",
        "stop_words = set(stopwords.words('english'))\n",
        "\n",
        "# Load datasets\n",
        "train = pd.read_csv('train.csv')\n",
        "test = pd.read_csv('test.csv')\n",
        "\n",
        "# Text preprocessing function\n",
        "def preprocess_text(text):\n",
        "    if isinstance(text, str):  # Check if text is a string\n",
        "        # Lowercase\n",
        "        text = text.lower()\n",
        "        # Remove punctuation and digits\n",
        "        text = re.sub(f'[{string.punctuation}0-9]', '', text)\n",
        "        # Remove extra spaces\n",
        "        text = re.sub(r'\\s+', ' ', text).strip()\n",
        "        # Remove stopwords\n",
        "        text = ' '.join([word for word in text.split() if word not in stop_words])\n",
        "    else:\n",
        "        text = ''  # If text is not a string (e.g., NaN), return an empty string\n",
        "    return text\n",
        "\n",
        "# Apply preprocessing to the train dataset\n",
        "train['processed_text'] = train['crimeaditionalinfo'].apply(preprocess_text)\n",
        "\n",
        "# Handle NaN values in target columns\n",
        "train['category'] = train['category'].fillna('Unknown')  # Fill NaNs with 'Unknown' for category\n",
        "train['sub_category'] = train['sub_category'].fillna('Unknown')  # Fill NaNs with 'Unknown' for sub_category\n",
        "\n",
        "# Vectorize text data\n",
        "vectorizer = TfidfVectorizer(max_features=5000)\n",
        "X = vectorizer.fit_transform(train['processed_text']).toarray()\n",
        "\n",
        "# Target variables\n",
        "y_category = train['category']\n",
        "y_sub_category = train['sub_category']\n",
        "\n",
        "# Split the data into training and validation sets for both targets\n",
        "X_train, X_val, y_train_category, y_val_category = train_test_split(X, y_category, test_size=0.2, random_state=42)\n",
        "_, _, y_train_sub_category, y_val_sub_category = train_test_split(X, y_sub_category, test_size=0.2, random_state=42)\n",
        "\n",
        "# Initialize and train the category classifier\n",
        "category_model = RandomForestClassifier(random_state=42)\n",
        "category_model.fit(X_train, y_train_category)\n",
        "\n",
        "# Initialize and train the sub-category classifier\n",
        "sub_category_model = RandomForestClassifier(random_state=42)\n",
        "sub_category_model.fit(X_train, y_train_sub_category)\n",
        "\n",
        "# Evaluate on the validation set\n",
        "y_pred_category = category_model.predict(X_val)\n",
        "y_pred_sub_category = sub_category_model.predict(X_val)\n",
        "\n",
        "print(\"Validation Accuracy for Category:\", accuracy_score(y_val_category, y_pred_category))\n",
        "print(\"Category Classification Report:\")\n",
        "print(classification_report(y_val_category, y_pred_category))\n",
        "\n",
        "print(\"Validation Accuracy for Sub-Category:\", accuracy_score(y_val_sub_category, y_pred_sub_category))\n",
        "print(\"Sub-Category Classification Report:\")\n",
        "print(classification_report(y_val_sub_category, y_pred_sub_category))\n",
        "\n",
        "# Preprocess the test data and predict\n",
        "test['processed_text'] = test['crimeaditionalinfo'].apply(preprocess_text)\n",
        "X_test = vectorizer.transform(test['processed_text']).toarray()\n",
        "\n",
        "test['predicted_category'] = category_model.predict(X_test)\n",
        "test['predicted_sub_category'] = sub_category_model.predict(X_test)\n",
        "\n",
        "# Save test predictions\n",
        "test[['predicted_category', 'predicted_sub_category']].to_csv('test_predictions.csv', index=False)\n",
        "\n",
        "print(\"Predictions saved to 'test_predictions.csv'\")"
      ],
      "metadata": {
        "colab": {
          "base_uri": "https://localhost:8080/"
        },
        "id": "AahivV4Qa18v",
        "outputId": "ed3333c3-ef81-4fa4-cffb-e3647f8dd011"
      },
      "id": "AahivV4Qa18v",
      "execution_count": 1,
      "outputs": [
        {
          "output_type": "stream",
          "name": "stderr",
          "text": [
            "[nltk_data] Downloading package stopwords to /root/nltk_data...\n",
            "[nltk_data]   Package stopwords is already up-to-date!\n"
          ]
        },
        {
          "output_type": "stream",
          "name": "stdout",
          "text": [
            "Validation Accuracy for Category: 0.7609136514035649\n",
            "Category Classification Report:\n"
          ]
        },
        {
          "output_type": "stream",
          "name": "stderr",
          "text": [
            "/usr/local/lib/python3.10/dist-packages/sklearn/metrics/_classification.py:1531: UndefinedMetricWarning: Precision is ill-defined and being set to 0.0 in labels with no predicted samples. Use `zero_division` parameter to control this behavior.\n",
            "  _warn_prf(average, modifier, f\"{metric.capitalize()} is\", len(result))\n",
            "/usr/local/lib/python3.10/dist-packages/sklearn/metrics/_classification.py:1531: UndefinedMetricWarning: Precision is ill-defined and being set to 0.0 in labels with no predicted samples. Use `zero_division` parameter to control this behavior.\n",
            "  _warn_prf(average, modifier, f\"{metric.capitalize()} is\", len(result))\n",
            "/usr/local/lib/python3.10/dist-packages/sklearn/metrics/_classification.py:1531: UndefinedMetricWarning: Precision is ill-defined and being set to 0.0 in labels with no predicted samples. Use `zero_division` parameter to control this behavior.\n",
            "  _warn_prf(average, modifier, f\"{metric.capitalize()} is\", len(result))\n"
          ]
        },
        {
          "output_type": "stream",
          "name": "stdout",
          "text": [
            "                                                      precision    recall  f1-score   support\n",
            "\n",
            "                               Any Other Cyber Crime       0.64      0.10      0.17      2091\n",
            "Child Pornography CPChild Sexual Abuse Material CSAM       0.94      0.25      0.39        69\n",
            "                                Cryptocurrency Crime       0.75      0.03      0.06        96\n",
            "                      Cyber Attack/ Dependent Crimes       1.00      1.00      1.00       765\n",
            "                                     Cyber Terrorism       1.00      0.03      0.06        31\n",
            "      Hacking  Damage to computercomputer system etc       0.64      0.05      0.10       341\n",
            "                            Online Cyber Trafficking       0.00      0.00      0.00        34\n",
            "                              Online Financial Fraud       0.77      0.98      0.87     11471\n",
            "                            Online Gambling  Betting       0.00      0.00      0.00        97\n",
            "               Online and Social Media Related Crime       0.58      0.56      0.57      2453\n",
            "                                          Ransomware       0.00      0.00      0.00        11\n",
            "           RapeGang Rape RGRSexually Abusive Content       1.00      0.91      0.95       565\n",
            "                             Report Unlawful Content       0.00      0.00      0.00         1\n",
            "                               Sexually Explicit Act       0.86      0.07      0.14       322\n",
            "                           Sexually Obscene material       0.82      0.08      0.15       391\n",
            "\n",
            "                                            accuracy                           0.76     18738\n",
            "                                           macro avg       0.60      0.27      0.30     18738\n",
            "                                        weighted avg       0.74      0.76      0.70     18738\n",
            "\n",
            "Validation Accuracy for Sub-Category: 0.5452556302700395\n",
            "Sub-Category Classification Report:\n"
          ]
        },
        {
          "output_type": "stream",
          "name": "stderr",
          "text": [
            "/usr/local/lib/python3.10/dist-packages/sklearn/metrics/_classification.py:1531: UndefinedMetricWarning: Precision is ill-defined and being set to 0.0 in labels with no predicted samples. Use `zero_division` parameter to control this behavior.\n",
            "  _warn_prf(average, modifier, f\"{metric.capitalize()} is\", len(result))\n",
            "/usr/local/lib/python3.10/dist-packages/sklearn/metrics/_classification.py:1531: UndefinedMetricWarning: Precision is ill-defined and being set to 0.0 in labels with no predicted samples. Use `zero_division` parameter to control this behavior.\n",
            "  _warn_prf(average, modifier, f\"{metric.capitalize()} is\", len(result))\n",
            "/usr/local/lib/python3.10/dist-packages/sklearn/metrics/_classification.py:1531: UndefinedMetricWarning: Precision is ill-defined and being set to 0.0 in labels with no predicted samples. Use `zero_division` parameter to control this behavior.\n",
            "  _warn_prf(average, modifier, f\"{metric.capitalize()} is\", len(result))\n"
          ]
        },
        {
          "output_type": "stream",
          "name": "stdout",
          "text": [
            "                                                                      precision    recall  f1-score   support\n",
            "\n",
            "               Against Interest of sovereignty or integrity of India       0.00      0.00      0.00         1\n",
            "                             Business Email CompromiseEmail Takeover       0.00      0.00      0.00        60\n",
            "                                           Cheating by Impersonation       0.33      0.01      0.01       386\n",
            "                                                Cryptocurrency Fraud       0.83      0.05      0.10        96\n",
            "                                   Cyber Bullying  Stalking  Sexting       0.48      0.56      0.51       836\n",
            "                                                     Cyber Terrorism       0.00      0.00      0.00        31\n",
            "                             Damage to computer computer systems etc       0.00      0.00      0.00        30\n",
            "                                                   Data Breach/Theft       0.10      0.10      0.10       103\n",
            "                                DebitCredit Card FraudSim Swap Fraud       0.69      0.68      0.69      2225\n",
            "                                               DematDepository Fraud       0.80      0.02      0.05       166\n",
            "Denial of Service (DoS)/Distributed Denial of Service (DDOS) attacks       0.18      0.16      0.17       115\n",
            "                                                      EMail Phishing       1.00      0.02      0.05        42\n",
            "                                               EWallet Related Fraud       0.70      0.31      0.43       819\n",
            "                                                       Email Hacking       0.57      0.06      0.12        62\n",
            "                                           FakeImpersonating Profile       0.50      0.32      0.39       470\n",
            "                                                   Fraud CallVishing       0.34      0.11      0.17      1112\n",
            "                                                  Hacking/Defacement       0.17      0.15      0.16       117\n",
            "                                                 Impersonating Email       0.00      0.00      0.00         8\n",
            "                                      Internet Banking Related Fraud       0.72      0.54      0.61      1782\n",
            "                                                  Intimidating Email       0.00      0.00      0.00         6\n",
            "                                                      Malware Attack       0.12      0.15      0.14       104\n",
            "                                            Online Gambling  Betting       0.00      0.00      0.00        97\n",
            "                                                    Online Job Fraud       1.00      0.01      0.02       199\n",
            "                                            Online Matrimonial Fraud       0.00      0.00      0.00        28\n",
            "                                                  Online Trafficking       0.00      0.00      0.00        34\n",
            "                                                               Other       0.33      0.45      0.38      2091\n",
            "                                      Profile Hacking Identity Theft       0.49      0.39      0.43       391\n",
            "                                Provocative Speech for unlawful acts       1.00      0.02      0.04        87\n",
            "                                                          Ransomware       0.00      0.00      0.00        11\n",
            "                                                   Ransomware Attack       0.11      0.14      0.12       102\n",
            "                                                       SQL Injection       0.22      0.21      0.21       109\n",
            "                            Tampering with computer source documents       0.16      0.13      0.14       125\n",
            "                                                  UPI Related Frauds       0.58      0.89      0.70      5307\n",
            "                                      Unauthorised AccessData Breach       0.61      0.09      0.16       222\n",
            "                                                             Unknown       0.75      0.58      0.66      1347\n",
            "                                           Website DefacementHacking       1.00      0.06      0.11        17\n",
            "\n",
            "                                                            accuracy                           0.55     18738\n",
            "                                                           macro avg       0.38      0.17      0.19     18738\n",
            "                                                        weighted avg       0.55      0.55      0.51     18738\n",
            "\n",
            "Predictions saved to 'test_predictions.csv'\n"
          ]
        }
      ]
    },
    {
      "cell_type": "code",
      "source": [
        "\n",
        "# Add interactive user input for predictions\n",
        "while True:\n",
        "    user_input = input(\"Enter crime additional information (or type 'exit' to quit): \")\n",
        "    if user_input.lower() == 'exit':\n",
        "        break\n",
        "\n",
        "    # Preprocess the input\n",
        "    processed_input = preprocess_text(user_input)\n",
        "\n",
        "    # Vectorize the input\n",
        "    input_vector = vectorizer.transform([processed_input]).toarray()\n",
        "\n",
        "    # Predict category and sub-category\n",
        "    predicted_category = category_model.predict(input_vector)[0]\n",
        "    predicted_sub_category = sub_category_model.predict(input_vector)[0]\n",
        "\n",
        "    # Display predictions\n",
        "    print(f\"Predicted Category: {predicted_category}\")\n",
        "    print(f\"Predicted Sub-Category: {predicted_sub_category}\")"
      ],
      "metadata": {
        "colab": {
          "base_uri": "https://localhost:8080/"
        },
        "id": "CyFD3Ck5u7Bd",
        "outputId": "34dcc464-8bc7-464c-929f-6df37a2b7ae3"
      },
      "id": "CyFD3Ck5u7Bd",
      "execution_count": 2,
      "outputs": [
        {
          "name": "stdout",
          "output_type": "stream",
          "text": [
            "Enter crime additional information (or type 'exit' to quit): got a lottery call\n",
            "Predicted Category: Online Financial Fraud\n",
            "Predicted Sub-Category: UPI Related Frauds\n",
            "Enter crime additional information (or type 'exit' to quit): i am from delhi saket, i was receiving an email of lottery and was asking for my bank details now he is not responding after taking 2 lakh as security\n",
            "Predicted Category: Online Financial Fraud\n",
            "Predicted Sub-Category: Other\n",
            "Enter crime additional information (or type 'exit' to quit): exit\n"
          ]
        }
      ]
    }
  ],
  "metadata": {
    "colab": {
      "provenance": [],
      "include_colab_link": true
    },
    "kernelspec": {
      "display_name": "Python 3 (ipykernel)",
      "language": "python",
      "name": "python3"
    },
    "language_info": {
      "codemirror_mode": {
        "name": "ipython",
        "version": 3
      },
      "file_extension": ".py",
      "mimetype": "text/x-python",
      "name": "python",
      "nbconvert_exporter": "python",
      "pygments_lexer": "ipython3",
      "version": "3.11.9"
    }
  },
  "nbformat": 4,
  "nbformat_minor": 5
}