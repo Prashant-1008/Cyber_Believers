{
  "cells": [
    {
      "cell_type": "markdown",
      "metadata": {
        "id": "view-in-github",
        "colab_type": "text"
      },
      "source": [
        "<a href=\"https://colab.research.google.com/github/Prashant-1008/Cyber_Believers/blob/main/initial_phase.ipynb\" target=\"_parent\"><img src=\"https://colab.research.google.com/assets/colab-badge.svg\" alt=\"Open In Colab\"/></a>"
      ]
    },
    {
      "cell_type": "markdown",
      "id": "be1fc7d0",
      "metadata": {
        "id": "be1fc7d0"
      },
      "source": [
        "# Complaint Classification Using Machine Learning\n",
        "\n",
        "This notebook demonstrates how to classify user complaints into categories and sub-categories using trained machine learning models. It includes steps to:\n",
        "\n",
        "- Accept a complaint as input\n",
        "- Transform the input using a TF-IDF vectorizer\n",
        "- Predict the category and sub-category using pre-trained models\n"
      ]
    },
    {
      "cell_type": "markdown",
      "id": "8262f021",
      "metadata": {
        "id": "8262f021"
      },
      "source": [
        "## Dependencies and Imports\n",
        "Ensure you have the required libraries installed before running this notebook."
      ]
    },
    {
      "cell_type": "code",
      "source": [
        "import pandas as pd\n",
        "import numpy as np\n",
        "import re\n",
        "import string\n",
        "from nltk.corpus import stopwords\n",
        "from sklearn.model_selection import train_test_split\n",
        "from sklearn.feature_extraction.text import TfidfVectorizer\n",
        "from sklearn.ensemble import RandomForestClassifier\n",
        "from sklearn.metrics import classification_report, accuracy_score\n",
        "import nltk\n",
        "\n",
        "# Download NLTK stopwords\n",
        "nltk.download('stopwords')\n",
        "stop_words = set(stopwords.words('english'))\n",
        "\n",
        "# Load datasets\n",
        "train = pd.read_csv('train.csv')\n",
        "test = pd.read_csv('test.csv')\n",
        "\n",
        "# Text preprocessing function\n",
        "def preprocess_text(text):\n",
        "    if isinstance(text, str):  # Check if text is a string\n",
        "        # Lowercase\n",
        "        text = text.lower()\n",
        "        # Remove punctuation and digits\n",
        "        text = re.sub(f'[{string.punctuation}0-9]', '', text)\n",
        "        # Remove extra spaces\n",
        "        text = re.sub(r'\\s+', ' ', text).strip()\n",
        "        # Remove stopwords\n",
        "        text = ' '.join([word for word in text.split() if word not in stop_words])\n",
        "    else:\n",
        "        text = ''  # If text is not a string (e.g., NaN), return an empty string\n",
        "    return text\n",
        "\n",
        "# Apply preprocessing to the train dataset\n",
        "train['processed_text'] = train['crimeaditionalinfo'].apply(preprocess_text)\n",
        "\n",
        "# Vectorize text data\n",
        "vectorizer = TfidfVectorizer(max_features=5000)\n",
        "X = vectorizer.fit_transform(train['processed_text']).toarray()\n",
        "y = train['category']\n",
        "\n",
        "# Split the data into training and validation sets\n",
        "X_train, X_val, y_train, y_val = train_test_split(X, y, test_size=0.2, random_state=42)\n",
        "\n",
        "# Initialize and train the classifier\n",
        "model = RandomForestClassifier(random_state=42)\n",
        "model.fit(X_train, y_train)\n",
        "\n",
        "# Evaluate on the validation set\n",
        "y_pred = model.predict(X_val)\n",
        "print(\"Validation Accuracy:\", accuracy_score(y_val, y_pred))\n",
        "print(classification_report(y_val, y_pred))\n",
        "\n",
        "# Preprocess the test data and predict\n",
        "test['processed_text'] = test['crimeaditionalinfo'].apply(preprocess_text)\n",
        "X_test = vectorizer.transform(test['processed_text']).toarray()\n",
        "test_predictions = model.predict(X_test)\n",
        "\n",
        "# Add predictions to the test dataframe and save to CSV\n",
        "test['predicted_category'] = test_predictions\n",
        "test[['predicted_category']].to_csv('test_predictions.csv', index=False)\n",
        "\n",
        "print(\"Predictions saved to 'test_predictions.csv'\")\n"
      ],
      "metadata": {
        "colab": {
          "base_uri": "https://localhost:8080/"
        },
        "id": "AahivV4Qa18v",
        "outputId": "feb67ea3-cd9b-4b52-d465-64bd9440bd03"
      },
      "id": "AahivV4Qa18v",
      "execution_count": 2,
      "outputs": [
        {
          "output_type": "stream",
          "name": "stderr",
          "text": [
            "[nltk_data] Downloading package stopwords to /root/nltk_data...\n",
            "[nltk_data]   Unzipping corpora/stopwords.zip.\n"
          ]
        },
        {
          "output_type": "stream",
          "name": "stdout",
          "text": [
            "Validation Accuracy: 0.7609136514035649\n"
          ]
        },
        {
          "output_type": "stream",
          "name": "stderr",
          "text": [
            "/usr/local/lib/python3.10/dist-packages/sklearn/metrics/_classification.py:1531: UndefinedMetricWarning: Precision is ill-defined and being set to 0.0 in labels with no predicted samples. Use `zero_division` parameter to control this behavior.\n",
            "  _warn_prf(average, modifier, f\"{metric.capitalize()} is\", len(result))\n",
            "/usr/local/lib/python3.10/dist-packages/sklearn/metrics/_classification.py:1531: UndefinedMetricWarning: Precision is ill-defined and being set to 0.0 in labels with no predicted samples. Use `zero_division` parameter to control this behavior.\n",
            "  _warn_prf(average, modifier, f\"{metric.capitalize()} is\", len(result))\n",
            "/usr/local/lib/python3.10/dist-packages/sklearn/metrics/_classification.py:1531: UndefinedMetricWarning: Precision is ill-defined and being set to 0.0 in labels with no predicted samples. Use `zero_division` parameter to control this behavior.\n",
            "  _warn_prf(average, modifier, f\"{metric.capitalize()} is\", len(result))\n"
          ]
        },
        {
          "output_type": "stream",
          "name": "stdout",
          "text": [
            "                                                      precision    recall  f1-score   support\n",
            "\n",
            "                               Any Other Cyber Crime       0.64      0.10      0.17      2091\n",
            "Child Pornography CPChild Sexual Abuse Material CSAM       0.94      0.25      0.39        69\n",
            "                                Cryptocurrency Crime       0.75      0.03      0.06        96\n",
            "                      Cyber Attack/ Dependent Crimes       1.00      1.00      1.00       765\n",
            "                                     Cyber Terrorism       1.00      0.03      0.06        31\n",
            "      Hacking  Damage to computercomputer system etc       0.64      0.05      0.10       341\n",
            "                            Online Cyber Trafficking       0.00      0.00      0.00        34\n",
            "                              Online Financial Fraud       0.77      0.98      0.87     11471\n",
            "                            Online Gambling  Betting       0.00      0.00      0.00        97\n",
            "               Online and Social Media Related Crime       0.58      0.56      0.57      2453\n",
            "                                          Ransomware       0.00      0.00      0.00        11\n",
            "           RapeGang Rape RGRSexually Abusive Content       1.00      0.91      0.95       565\n",
            "                             Report Unlawful Content       0.00      0.00      0.00         1\n",
            "                               Sexually Explicit Act       0.86      0.07      0.14       322\n",
            "                           Sexually Obscene material       0.82      0.08      0.15       391\n",
            "\n",
            "                                            accuracy                           0.76     18738\n",
            "                                           macro avg       0.60      0.27      0.30     18738\n",
            "                                        weighted avg       0.74      0.76      0.70     18738\n",
            "\n",
            "Predictions saved to 'test_predictions.csv'\n"
          ]
        }
      ]
    }
  ],
  "metadata": {
    "colab": {
      "provenance": [],
      "include_colab_link": true
    },
    "kernelspec": {
      "display_name": "Python 3 (ipykernel)",
      "language": "python",
      "name": "python3"
    },
    "language_info": {
      "codemirror_mode": {
        "name": "ipython",
        "version": 3
      },
      "file_extension": ".py",
      "mimetype": "text/x-python",
      "name": "python",
      "nbconvert_exporter": "python",
      "pygments_lexer": "ipython3",
      "version": "3.11.9"
    }
  },
  "nbformat": 4,
  "nbformat_minor": 5
}
